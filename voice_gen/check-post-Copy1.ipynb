{
 "cells": [
  {
   "cell_type": "code",
   "execution_count": 3,
   "id": "f2b9c46b-92ed-424f-99c7-fe7889398f31",
   "metadata": {},
   "outputs": [],
   "source": [
    "import csv"
   ]
  },
  {
   "cell_type": "code",
   "execution_count": 4,
   "id": "e793a1ed-ec1f-4c09-b4df-a0e3dd8041b2",
   "metadata": {},
   "outputs": [
    {
     "name": "stdout",
     "output_type": "stream",
     "text": [
      "check success\n"
     ]
    }
   ],
   "source": [
    "output_csvfile = f\"./result.csv\"\n",
    "input_lines = []\n",
    "with open(output_csvfile, 'r', encoding=\"utf-8\") as f:\n",
    "    reader = csv.reader(f)\n",
    "    head = next(reader)\n",
    "    assert set(head) == {\"utt\", \"reference_speech\", \"text\", \"synthesized_speech\"}\n",
    "    index = [head.index(h) for h in [\"utt\", \"reference_speech\", \"text\", \"synthesized_speech\"]]\n",
    "    for line in reader:\n",
    "        input_lines.append([line[i] for i in index])\n",
    "\n",
    "print(\"check success\")"
   ]
  },
  {
   "cell_type": "code",
   "execution_count": 2,
   "id": "28943b1f-a7bd-42b8-bf95-916f51e7be9d",
   "metadata": {},
   "outputs": [
    {
     "name": "stdout",
     "output_type": "stream",
     "text": [
      "所有文件都存在，没有缺失。\n",
      "\n",
      "共找到 200 个有效文件。\n"
     ]
    }
   ],
   "source": [
    "import os\n",
    "import re\n",
    "\n",
    "def check_missing_files(folder_path):\n",
    "    # 正则表达式匹配文件名：synthesized_speech_数字.wav\n",
    "    pattern = re.compile(r'synthesized_speech_(\\d+)\\.wav')\n",
    "    \n",
    "    # 存储找到的数字\n",
    "    found_numbers = []\n",
    "\n",
    "    # 遍历文件夹中的所有文件\n",
    "    for filename in os.listdir(folder_path):\n",
    "        match = pattern.match(filename)\n",
    "        if match:\n",
    "            num = int(match.group(1))\n",
    "            if 1 <= num <= 200:\n",
    "                found_numbers.append(num)\n",
    "\n",
    "    # 去重并排序\n",
    "    found_numbers = sorted(set(found_numbers))\n",
    "\n",
    "    # 所有应该存在的编号\n",
    "    expected_numbers = set(range(1, 201))\n",
    "\n",
    "    # 找出缺失的编号\n",
    "    missing_numbers = sorted(expected_numbers - set(found_numbers))\n",
    "\n",
    "    # 输出结果\n",
    "    if missing_numbers:\n",
    "        print(f\"缺失的文件编号（{len(missing_numbers)} 个）：\")\n",
    "        print(missing_numbers)\n",
    "    else:\n",
    "        print(\"所有文件都存在，没有缺失。\")\n",
    "\n",
    "    print(f\"\\n共找到 {len(found_numbers)} 个有效文件。\")\n",
    "\n",
    "# 使用示例\n",
    "if __name__ == \"__main__\":\n",
    "    # folder = \"../aha!-result\"\n",
    "    folder = \"./best_audio_results\"\n",
    "    \n",
    "    if os.path.isdir(folder):\n",
    "        check_missing_files(folder)\n",
    "    else:\n",
    "        print(\"错误：不是有效的文件夹路径！\")"
   ]
  },
  {
   "cell_type": "code",
   "execution_count": null,
   "id": "6deec579-9601-41f9-a64f-3a30d03eab7e",
   "metadata": {},
   "outputs": [],
   "source": []
  }
 ],
 "metadata": {
  "kernelspec": {
   "display_name": "Python 3 (ipykernel)",
   "language": "python",
   "name": "python3"
  },
  "language_info": {
   "codemirror_mode": {
    "name": "ipython",
    "version": 3
   },
   "file_extension": ".py",
   "mimetype": "text/x-python",
   "name": "python",
   "nbconvert_exporter": "python",
   "pygments_lexer": "ipython3",
   "version": "3.12.2"
  }
 },
 "nbformat": 4,
 "nbformat_minor": 5
}
